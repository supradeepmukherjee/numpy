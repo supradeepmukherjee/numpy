{
    "cells": [
        {
            "cell_type": "code",
            "execution_count": 2,
            "metadata": {},
            "outputs": [],
            "source": [
                "import numpy as np\n",
                "import time"
            ]
        },
        {
            "cell_type": "markdown",
            "metadata": {},
            "source": [
                "### create array from list"
            ]
        },
        {
            "cell_type": "code",
            "execution_count": 3,
            "metadata": {},
            "outputs": [
                {
                    "name": "stdout",
                    "output_type": "stream",
                    "text": [
                        "[1 2 3 4 5]\n",
                        "[[1 2 3]\n",
                        " [4 5 6]]\n"
                    ]
                }
            ],
            "source": [
                "arr_1d=np.array([1,2,3,4,5])\n",
                "print(arr_1d)\n",
                "arr_2d=np.array([[1,2,3],[4,5,6]])\n",
                "print(arr_2d)\n"
            ]
        },
        {
            "cell_type": "markdown",
            "metadata": {},
            "source": [
                "### list vs numpy array"
            ]
        },
        {
            "cell_type": "code",
            "execution_count": 4,
            "metadata": {},
            "outputs": [
                {
                    "name": "stdout",
                    "output_type": "stream",
                    "text": [
                        "[1, 2, 3, 1, 2, 3]\n",
                        "[2 4 6]\n",
                        "3.73199462890625\n",
                        "0.3509986400604248\n"
                    ]
                }
            ],
            "source": [
                "py_list=[1,2,3]\n",
                "print(py_list*2)\n",
                "np_array=np.array([1,2,3])\n",
                "print(np_array*2)\n",
                "start=time.time()\n",
                "py_list=[i*2 for i in range(10000000)]\n",
                "print(time.time()-start)\n",
                "start=time.time()\n",
                "np_array=np.arange(10000000)\n",
                "print(time.time()-start)"
            ]
        },
        {
            "cell_type": "markdown",
            "metadata": {},
            "source": [
                "### creating array from scratch"
            ]
        },
        {
            "cell_type": "code",
            "execution_count": null,
            "metadata": {},
            "outputs": [
                {
                    "name": "stdout",
                    "output_type": "stream",
                    "text": [
                        "[[0. 0. 0. 0.]\n",
                        " [0. 0. 0. 0.]\n",
                        " [0. 0. 0. 0.]]\n",
                        "[[1. 1. 1.]\n",
                        " [1. 1. 1.]]\n",
                        "[[7 7]\n",
                        " [7 7]]\n",
                        "[[0.07864094 0.96196559 0.92630331]\n",
                        " [0.09546457 0.80310313 0.78850671]]\n",
                        "[0 1 2 3 4 5 6 7 8]\n"
                    ]
                }
            ],
            "source": [
                "zeros=np.zeros((3,4))\n",
                "print(zeros)\n",
                "ones=np.ones((2,3))\n",
                "print(ones)\n",
                "full=np.full((2,2),7)\n",
                "print(full)\n",
                "random=np.random.random((2,3))\n",
                "print(random)\n",
                "sequence=np.arange(0,9)\n",
                "print(sequence)"
            ]
        },
        {
            "cell_type": "markdown",
            "metadata": {},
            "source": [
                "### Vector, Matrix, Tensor"
            ]
        },
        {
            "cell_type": "code",
            "execution_count": 23,
            "metadata": {},
            "outputs": [
                {
                    "name": "stdout",
                    "output_type": "stream",
                    "text": [
                        "[1 2 3]\n",
                        "[[1 2 3]\n",
                        " [4 5 6]]\n",
                        "[[[1 2]\n",
                        "  [3 4]]\n",
                        "\n",
                        " [[5 6]\n",
                        "  [7 8]]]\n"
                    ]
                }
            ],
            "source": [
                "vector=np.array([1,2,3])\n",
                "print(vector)\n",
                "matrix=np.array([[1,2,3],[4,5,6]])\n",
                "print(matrix)\n",
                "tensor=np.array([\n",
                "    [\n",
                "        [1,2],\n",
                "        [3,4]\n",
                "    ],\n",
                "    [\n",
                "        [5,6],\n",
                "        [7,8]\n",
                "    ]\n",
                "])\n",
                "print(tensor)"
            ]
        },
        {
            "cell_type": "markdown",
            "metadata": {},
            "source": [
                "### Array Properties"
            ]
        },
        {
            "cell_type": "code",
            "execution_count": null,
            "metadata": {},
            "outputs": [
                {
                    "name": "stdout",
                    "output_type": "stream",
                    "text": [
                        "(2, 2)\n",
                        "2\n",
                        "4\n",
                        "int64\n"
                    ]
                }
            ],
            "source": [
                "arr=np.array([[1,2],[3,4]])\n",
                "# arr=np.array([[1,2],[3,4.1]])\n",
                "# arr=np.array([[1,2],[3,'4.1']])\n",
                "# arr=np.array([[1,2],[3,True]])\n",
                "print(arr.shape)\n",
                "print(arr.ndim)\n",
                "print(arr.size)\n",
                "print(arr.dtype)"
            ]
        },
        {
            "cell_type": "markdown",
            "metadata": {},
            "source": [
                "### Array Reshaping"
            ]
        },
        {
            "cell_type": "code",
            "execution_count": 35,
            "metadata": {},
            "outputs": [
                {
                    "name": "stdout",
                    "output_type": "stream",
                    "text": [
                        "[ 0  1  2  3  4  5  6  7  8  9 10 11]\n",
                        "[[ 0  1  2  3]\n",
                        " [ 4  5  6  7]\n",
                        " [ 8  9 10 11]]\n",
                        "[ 0  1  2  3  4  5  6  7  8  9 10 11]\n",
                        "[ 0  1  2  3  4  5  6  7  8  9 10 11]\n",
                        "[[ 0  4  8]\n",
                        " [ 1  5  9]\n",
                        " [ 2  6 10]\n",
                        " [ 3  7 11]]\n"
                    ]
                }
            ],
            "source": [
                "arr=np.arange(12)\n",
                "print(arr)\n",
                "reshaped=arr.reshape((3,4))\n",
                "print(reshaped)\n",
                "flattened=reshaped.flatten()\n",
                "print(flattened)\n",
                "raveled=reshaped.ravel() # returns view, instead of copy\n",
                "print(raveled)\n",
                "transpose=reshaped.T\n",
                "print(transpose)"
            ]
        }
    ],
    "metadata": {
        "kernelspec": {
            "display_name": "venv",
            "language": "python",
            "name": "python3"
        },
        "language_info": {
            "codemirror_mode": {
                "name": "ipython",
                "version": 3
            },
            "file_extension": ".py",
            "mimetype": "text/x-python",
            "name": "python",
            "nbconvert_exporter": "python",
            "pygments_lexer": "ipython3",
            "version": "3.12.3"
        }
    },
    "nbformat": 4,
    "nbformat_minor": 2
}
